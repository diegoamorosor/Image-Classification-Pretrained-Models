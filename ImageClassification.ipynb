{
  "nbformat": 4,
  "nbformat_minor": 0,
  "metadata": {
    "colab": {
      "provenance": [],
      "toc_visible": true
    },
    "kernelspec": {
      "name": "python3",
      "display_name": "Python 3"
    },
    "language_info": {
      "name": "python"
    }
  },
  "cells": [
    {
      "cell_type": "markdown",
      "source": [
        "# Image Classification\n"
      ],
      "metadata": {
        "id": "7CQfgInJEzEL"
      }
    },
    {
      "cell_type": "markdown",
      "source": [
        "## Image Array"
      ],
      "metadata": {
        "id": "3u0LzgGcLhin"
      }
    },
    {
      "cell_type": "code",
      "source": [
        "# Importamos las librerías necesarias\n",
        "import numpy as np\n",
        "import tensorflow as tf\n",
        "from keras.preprocessing import image\n",
        "from keras.applications.inception_v3 import InceptionV3, decode_predictions\n",
        "import requests\n",
        "from PIL import Image\n",
        "from io import BytesIO\n",
        "import time  # Para medir el tiempo de ejecución\n",
        "\n",
        "# Crear una instancia del modelo InceptionV3 preentrenado fuera del bucle\n",
        "iv3 = InceptionV3()\n",
        "\n",
        "# Función para cargar una imagen desde una URL\n",
        "def load_image_from_url(url, target_size=(299, 299)):\n",
        "    response = requests.get(url)  # Descargar la imagen\n",
        "    img = Image.open(BytesIO(response.content))  # Abrir la imagen descargada\n",
        "    img = img.resize(target_size)  # Redimensionar la imagen\n",
        "    return image.img_to_array(img)  # Convertir imagen a numpy array\n",
        "\n",
        "# Definir una función decorada con @tf.function para optimizar la predicción\n",
        "@tf.function\n",
        "def predict_image(model, input_tensor):\n",
        "    return model(input_tensor)\n",
        "\n",
        "# Lista de URLs de imágenes\n",
        "image_urls = [\n",
        "    \"https://i.pinimg.com/736x/d8/2d/b1/d82db192bfa37d3a0ca8594bf22f018f.jpg\",\n",
        "    \"https://i.pinimg.com/736x/8b/6f/61/8b6f61ae60f2acff98c7403a3ee9c191.jpg\",\n",
        "    \"https://i.pinimg.com/736x/de/7d/13/de7d133125b4f21b27346274085676ce.jpg\",\n",
        "    \"https://i.pinimg.com/736x/cf/1e/59/cf1e59930ccf3693936b76d7e81eae97.jpg\",\n",
        "    \"https://i.pinimg.com/736x/96/35/3f/96353f3016dbeb412895aecad7ca0367.jpg\"\n",
        "]\n",
        "\n",
        "# Procesar cada imagen\n",
        "for i, url in enumerate(image_urls):\n",
        "    print(f\"Processing image {i + 1} from URL: {url}\")\n",
        "\n",
        "    try:\n",
        "        # Registrar el tiempo de inicio\n",
        "        start_time = time.time()\n",
        "\n",
        "        # Cargar y preparar la imagen\n",
        "        x = load_image_from_url(url)\n",
        "        x = tf.image.resize(x, (299, 299))  # Redimensiona todas las imágenes con el tamaño correcto\n",
        "        x = tf.expand_dims(x, axis=0)  # Agregar la dimensión para el batch\n",
        "        x = tf.keras.applications.inception_v3.preprocess_input(x)  # Preprocesar la imagen\n",
        "\n",
        "        # Realizar la predicción utilizando la función optimizada\n",
        "        y = predict_image(iv3, x)\n",
        "\n",
        "        # Registrar el tiempo de finalización\n",
        "        end_time = time.time()\n",
        "        elapsed_time = end_time - start_time\n",
        "\n",
        "        # Decodificar y mostrar las predicciones\n",
        "        predictions = decode_predictions(y.numpy(), top=5)  # Mostrar las 5 clases más probables\n",
        "        print(\"Predicciones:\")\n",
        "        for j, (imagenet_id, label, score) in enumerate(predictions[0]):\n",
        "            print(f\"{j + 1}. {label}: {score:.2%}\")\n",
        "\n",
        "        # Mostrar la predicción más probable\n",
        "        print(\"\\nLa imagen fue clasificada como:\")\n",
        "        print(f\"{predictions[0][0][1]} con una probabilidad de {predictions[0][0][2]:.2%}\")\n",
        "        print(f\"Tiempo de procesamiento: {elapsed_time:.2f} segundos\\n\")\n",
        "\n",
        "    except Exception as e:\n",
        "        print(f\"Error processing image {i + 1}: {e}\\n\")\n",
        "\n"
      ],
      "metadata": {
        "colab": {
          "base_uri": "https://localhost:8080/"
        },
        "id": "H7p0qd2bFLLW",
        "outputId": "148de6a4-0616-4e83-f81c-45b9ac37e82e"
      },
      "execution_count": 24,
      "outputs": [
        {
          "output_type": "stream",
          "name": "stdout",
          "text": [
            "Processing image 1 from URL: https://i.pinimg.com/736x/d8/2d/b1/d82db192bfa37d3a0ca8594bf22f018f.jpg\n",
            "Predicciones:\n",
            "1. Samoyed: 53.38%\n",
            "2. Great_Pyrenees: 26.86%\n",
            "3. kuvasz: 6.74%\n",
            "4. malamute: 2.25%\n",
            "5. Eskimo_dog: 0.74%\n",
            "\n",
            "La imagen fue clasificada como:\n",
            "Samoyed con una probabilidad de 53.38%\n",
            "Tiempo de procesamiento: 3.40 segundos\n",
            "\n",
            "Processing image 2 from URL: https://i.pinimg.com/736x/8b/6f/61/8b6f61ae60f2acff98c7403a3ee9c191.jpg\n",
            "Predicciones:\n",
            "1. Angora: 92.41%\n",
            "2. photocopier: 0.43%\n",
            "3. toilet_tissue: 0.33%\n",
            "4. carton: 0.22%\n",
            "5. space_bar: 0.15%\n",
            "\n",
            "La imagen fue clasificada como:\n",
            "Angora con una probabilidad de 92.41%\n",
            "Tiempo de procesamiento: 0.50 segundos\n",
            "\n",
            "Processing image 3 from URL: https://i.pinimg.com/736x/de/7d/13/de7d133125b4f21b27346274085676ce.jpg\n",
            "Predicciones:\n",
            "1. kuvasz: 29.02%\n",
            "2. golden_retriever: 27.34%\n",
            "3. Great_Pyrenees: 14.84%\n",
            "4. Labrador_retriever: 6.53%\n",
            "5. ice_bear: 1.30%\n",
            "\n",
            "La imagen fue clasificada como:\n",
            "kuvasz con una probabilidad de 29.02%\n",
            "Tiempo de procesamiento: 0.34 segundos\n",
            "\n",
            "Processing image 4 from URL: https://i.pinimg.com/736x/cf/1e/59/cf1e59930ccf3693936b76d7e81eae97.jpg\n",
            "Predicciones:\n",
            "1. miniature_schnauzer: 63.25%\n",
            "2. standard_schnauzer: 12.29%\n",
            "3. wire-haired_fox_terrier: 0.72%\n",
            "4. Scottish_deerhound: 0.52%\n",
            "5. Scotch_terrier: 0.40%\n",
            "\n",
            "La imagen fue clasificada como:\n",
            "miniature_schnauzer con una probabilidad de 63.25%\n",
            "Tiempo de procesamiento: 0.27 segundos\n",
            "\n",
            "Processing image 5 from URL: https://i.pinimg.com/736x/96/35/3f/96353f3016dbeb412895aecad7ca0367.jpg\n",
            "Predicciones:\n",
            "1. Labrador_retriever: 7.26%\n",
            "2. ocarina: 7.09%\n",
            "3. Sealyham_terrier: 3.66%\n",
            "4. bathing_cap: 3.47%\n",
            "5. neck_brace: 2.95%\n",
            "\n",
            "La imagen fue clasificada como:\n",
            "Labrador_retriever con una probabilidad de 7.26%\n",
            "Tiempo de procesamiento: 0.26 segundos\n",
            "\n"
          ]
        }
      ]
    },
    {
      "cell_type": "markdown",
      "source": [
        "## Single Image"
      ],
      "metadata": {
        "id": "avtuTNdfLmL7"
      }
    },
    {
      "cell_type": "code",
      "source": [
        "single_url = \"https://i.pinimg.com/736x/9b/3a/00/9b3a00eafef25bc831ff13208d54fb56.jpg\"\n",
        "\n",
        "print(f\"Processing image from URL: {single_url}\")\n",
        "\n",
        "# Registrar el tiempo de inicio (ejecución del programa)\n",
        "start_time = time.time()\n",
        "\n",
        "# Función para cargar una imagen desde una URL\n",
        "def load_image_from_url(url, target_size=(299, 299)):\n",
        "    response = requests.get(url)  # Descargar la imagen\n",
        "    img = Image.open(BytesIO(response.content))  # Abrir la imagen descargada\n",
        "    img = img.resize(target_size)  # Redimensiona la img\n",
        "    return image.img_to_array(img)  # Convertir img a numpy array\n",
        "\n",
        "# Cargar y preparar la imagen\n",
        "x = load_image_from_url(single_url)\n",
        "x = x.reshape([1, x.shape[0], x.shape[1], x.shape[2]])  # Agregar la dimensión para el batch\n",
        "x = tf.keras.applications.inception_v3.preprocess_input(x)  # Preprocesar la imagen\n",
        "\n",
        "# Realizar la predicción\n",
        "y = iv3.predict(x)\n",
        "\n",
        "# Decodificar y mostrar las predicciones\n",
        "predictions = decode_predictions(y, top=5)\n",
        "\n",
        "# Mostrar las 5 clases más probables\n",
        "print(\"Predicciones:\")\n",
        "\n",
        "for i, (imagenet_id, label, score) in enumerate(predictions[0]):\n",
        "  print(f\"{i + 1}. {label}: {score:.2%}\")\n",
        "\n",
        "# Mostrar la predicción más probable\n",
        "print(\"\\nLa imagen fue clasificada como:\")\n",
        "print(f\"{predictions[0][0][1]} con una probabilidad de {predictions[0][0][2]:.2%}\")\n",
        "print(f\"Tiempo de procesamiento: {elapsed_time:.2f} segundos\\n\")"
      ],
      "metadata": {
        "colab": {
          "base_uri": "https://localhost:8080/"
        },
        "id": "0u7HEBPGHw63",
        "outputId": "26a8888d-d6cf-4430-bb78-aff6fa6e64e4"
      },
      "execution_count": null,
      "outputs": [
        {
          "output_type": "stream",
          "name": "stdout",
          "text": [
            "Processing image from URL: https://i.pinimg.com/736x/9b/3a/00/9b3a00eafef25bc831ff13208d54fb56.jpg\n",
            "\u001b[1m1/1\u001b[0m \u001b[32m━━━━━━━━━━━━━━━━━━━━\u001b[0m\u001b[37m\u001b[0m \u001b[1m0s\u001b[0m 231ms/step\n",
            "Predicciones:\n",
            "1. pug: 38.44%\n",
            "2. seat_belt: 25.27%\n",
            "3. Windsor_tie: 8.53%\n",
            "4. suit: 5.63%\n",
            "5. Brabancon_griffon: 1.21%\n",
            "\n",
            "La imagen fue clasificada como:\n",
            "pug con una probabilidad de 38.44%\n",
            "Tiempo de procesamiento: 0.35 segundos\n",
            "\n"
          ]
        }
      ]
    }
  ]
}